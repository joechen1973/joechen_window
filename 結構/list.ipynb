{
 "cells": [
  {
   "cell_type": "code",
   "execution_count": 1,
   "metadata": {},
   "outputs": [
    {
     "name": "stdout",
     "output_type": "stream",
     "text": [
      "5\n",
      "<class 'list'>\n"
     ]
    }
   ],
   "source": [
    "# python的資料結構有哪些:\n",
    "# list\n",
    "# dict\n",
    "# set\n",
    "# class\n",
    "\n",
    "# 實體裡面有:\n",
    "# attribute\n",
    "# property\n",
    "# method(實體的方法)\n",
    "\n",
    "# python網站\n",
    "# 說明文件\n",
    "# 教學\n",
    "# list\n",
    "\n",
    "\n",
    "l1:list=[2,4,6,8,10]\n",
    "#查元素的數量\n",
    "print(len(l1))\n",
    "\n",
    "#哪一個class建立的實體(資料類型)\n",
    "print(type(l1))\n",
    "\n"
   ]
  },
  {
   "cell_type": "code",
   "execution_count": 4,
   "metadata": {},
   "outputs": [
    {
     "name": "stdout",
     "output_type": "stream",
     "text": [
      "[2, 4, 6, 8, 10, 12]\n"
     ]
    }
   ],
   "source": [
    "#實體的方法method()\n",
    "l1.append(12)\n",
    "print(l1)"
   ]
  },
  {
   "cell_type": "code",
   "execution_count": 5,
   "metadata": {},
   "outputs": [
    {
     "name": "stdout",
     "output_type": "stream",
     "text": [
      "12\n",
      "[2, 4, 6, 8, 10]\n"
     ]
    }
   ],
   "source": [
    "a=l1.pop()\n",
    "print(a)\n",
    "print(l1)"
   ]
  },
  {
   "cell_type": "code",
   "execution_count": 20,
   "metadata": {},
   "outputs": [
    {
     "name": "stdout",
     "output_type": "stream",
     "text": [
      "2 4 6 8 10\n",
      "索引編號,超出範圍\n"
     ]
    }
   ],
   "source": [
    "print(l1[0],end=' ')\n",
    "print(l1[1],end=' ')\n",
    "print(l1[2],end=' ')\n",
    "print(l1[3],end=' ')\n",
    "print(l1[4])\n",
    "\n",
    "try:\n",
    "    print(l1[5])\n",
    "except IndexError:\n",
    "    print(\"索引編號,超出範圍\")\n",
    "except Exception as e:\n",
    "    print(\"不知名的錯誤:{e}\")\n",
    "\n",
    "# raise IndexError 就閃退\n",
    "# 如不想要它閃退,可用\n",
    "# try:\n",
    "\n",
    "# except:\n"
   ]
  },
  {
   "cell_type": "code",
   "execution_count": 11,
   "metadata": {},
   "outputs": [
    {
     "name": "stdout",
     "output_type": "stream",
     "text": [
      "2\n",
      "4\n",
      "6\n",
      "8\n",
      "10\n"
     ]
    }
   ],
   "source": [
    "\n",
    "# 序列資料都會搭配for in迴圈,取出一個一個的值\n",
    "for item in l1:\n",
    "    print(item)"
   ]
  },
  {
   "cell_type": "code",
   "execution_count": 10,
   "metadata": {},
   "outputs": [
    {
     "name": "stdout",
     "output_type": "stream",
     "text": [
      "0\n",
      "2\n",
      "==========\n",
      "1\n",
      "4\n",
      "==========\n",
      "2\n",
      "6\n",
      "==========\n",
      "3\n",
      "8\n",
      "==========\n",
      "4\n",
      "10\n",
      "==========\n"
     ]
    }
   ],
   "source": [
    "# for (index,value) in enumerate(l1):\n",
    "# 函式enumerate\n",
    "# iterable重複讀取\n",
    "for index,value in enumerate(l1):\n",
    "    print(index)\n",
    "    print(value)\n",
    "    print(\"==========\")"
   ]
  },
  {
   "cell_type": "code",
   "execution_count": null,
   "metadata": {},
   "outputs": [],
   "source": [
    "# Python 有兩種序列結構，分別是元組( tuple ) 和串列( list )\n",
    "#tuple是包裹的包裝層,會被拆解掉後丟棄\n",
    "#tuple的拆解法\n",
    "#(index,value)=(0,2)\n",
    "index,value=0,2\n",
    "print(index)\n",
    "print(value)\n"
   ]
  },
  {
   "cell_type": "code",
   "execution_count": 21,
   "metadata": {},
   "outputs": [
    {
     "name": "stdout",
     "output_type": "stream",
     "text": [
      "R\n",
      "o\n",
      "b\n",
      "e\n",
      "r\n",
      "t\n",
      " \n",
      "H\n",
      "s\n",
      "u\n"
     ]
    }
   ],
   "source": [
    "# 字串也是序列資料,所以可以用for in\n",
    "name:str=\"Robert Hsu\"\n",
    "for word in name:\n",
    "    print(word)"
   ]
  },
  {
   "cell_type": "code",
   "execution_count": 24,
   "metadata": {},
   "outputs": [
    {
     "data": {
      "text/plain": [
       "'R'"
      ]
     },
     "execution_count": 24,
     "metadata": {},
     "output_type": "execute_result"
    }
   ],
   "source": [
    "#[index]\n",
    "name[0]"
   ]
  },
  {
   "cell_type": "code",
   "execution_count": 26,
   "metadata": {},
   "outputs": [
    {
     "name": "stdout",
     "output_type": "stream",
     "text": [
      "Robert\n",
      "Robert\n"
     ]
    }
   ],
   "source": [
    "#[slice]\n",
    "print(name[0:6])\n",
    "print(name[:6])"
   ]
  },
  {
   "cell_type": "code",
   "execution_count": 28,
   "metadata": {},
   "outputs": [
    {
     "data": {
      "text/plain": [
       "'Hsu'"
      ]
     },
     "execution_count": 28,
     "metadata": {},
     "output_type": "execute_result"
    }
   ],
   "source": [
    "#[slice]\n",
    "name[-3:-1]\n",
    "name[-3:]"
   ]
  }
 ],
 "metadata": {
  "kernelspec": {
   "display_name": "vene1",
   "language": "python",
   "name": "python3"
  },
  "language_info": {
   "codemirror_mode": {
    "name": "ipython",
    "version": 3
   },
   "file_extension": ".py",
   "mimetype": "text/x-python",
   "name": "python",
   "nbconvert_exporter": "python",
   "pygments_lexer": "ipython3",
   "version": "3.10.14"
  }
 },
 "nbformat": 4,
 "nbformat_minor": 2
}
