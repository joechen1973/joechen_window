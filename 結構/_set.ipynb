{
 "cells": [
  {
   "cell_type": "code",
   "execution_count": 2,
   "metadata": {},
   "outputs": [
    {
     "data": {
      "text/plain": [
       "{1, 2, 3}"
      ]
     },
     "execution_count": 2,
     "metadata": {},
     "output_type": "execute_result"
    }
   ],
   "source": [
    "#set建立時,是一個圓\n",
    "#s1:set,set的實體s1,元素內容不可以重複\n",
    "s1={1,1,2,2,3}\n",
    "s1\n",
    "# 實體裡面有:\n",
    "# attribute\n",
    "# property\n",
    "# method(實體的方法)"
   ]
  },
  {
   "cell_type": "code",
   "execution_count": 3,
   "metadata": {},
   "outputs": [
    {
     "data": {
      "text/plain": [
       "{1, 2, 3}"
      ]
     },
     "execution_count": 3,
     "metadata": {},
     "output_type": "execute_result"
    }
   ],
   "source": [
    "s2:set=set()\n",
    "s2.add(1)\n",
    "s2.add(1)\n",
    "s2.add(2)\n",
    "s2.add(2)\n",
    "s2.add(3)\n",
    "s2.add(3)\n",
    "s2"
   ]
  },
  {
   "cell_type": "code",
   "execution_count": 6,
   "metadata": {},
   "outputs": [
    {
     "data": {
      "text/plain": [
       "{3, 4}"
      ]
     },
     "execution_count": 6,
     "metadata": {},
     "output_type": "execute_result"
    }
   ],
   "source": [
    "s3:set={1,2,3,4}\n",
    "s4:set={3,4,5,6}\n",
    "#聯集\n",
    "# u1:set=s3.union(s4)\n",
    "#交集\n",
    "u1:set=s3.intersection(s4)\n",
    "u1"
   ]
  },
  {
   "cell_type": "code",
   "execution_count": 54,
   "metadata": {},
   "outputs": [
    {
     "data": {
      "text/plain": [
       "[38, 37, 35, 20, 14, 13, 12]"
      ]
     },
     "execution_count": 54,
     "metadata": {},
     "output_type": "execute_result"
    }
   ],
   "source": [
    "#撰寫一個大樂透電腦自動選號程式,程式執行會以亂數的方式顯示1-49之間七個不重複的大樂透號碼。\n",
    "import random\n",
    "#random是模組\n",
    "#常數,class,funtion\n",
    "lot:set=set()\n",
    "\n",
    "#使用for迴圈可能出現重複數字,造成總數量的數字無法為七個\n",
    "# for i in range(7):\n",
    "#     lot.add(random.randint(1,49))\n",
    "while len(lot)<7:\n",
    "    lot.add(random.randint(1,49))\n",
    "lot_list:list[int] = list(lot)\n",
    "# lot_list.sort() #此為由小到大\n",
    "lot_list.sort(reverse=True)\n",
    "lot_list\n"
   ]
  }
 ],
 "metadata": {
  "kernelspec": {
   "display_name": "vene1",
   "language": "python",
   "name": "python3"
  },
  "language_info": {
   "codemirror_mode": {
    "name": "ipython",
    "version": 3
   },
   "file_extension": ".py",
   "mimetype": "text/x-python",
   "name": "python",
   "nbconvert_exporter": "python",
   "pygments_lexer": "ipython3",
   "version": "3.10.14"
  }
 },
 "nbformat": 4,
 "nbformat_minor": 2
}
