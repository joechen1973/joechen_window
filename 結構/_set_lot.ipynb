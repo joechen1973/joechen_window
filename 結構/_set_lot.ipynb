{
 "cells": [
  {
   "cell_type": "code",
   "execution_count": 1,
   "metadata": {},
   "outputs": [
    {
     "name": "stdout",
     "output_type": "stream",
     "text": [
      "[4, 42, 48, 20, 22, 24, 27]\n"
     ]
    }
   ],
   "source": [
    "import os,random\n",
    "os.system(\"cls\")\n",
    "\n",
    "#撰寫一個大樂透電腦自動選號程式，程式執行會以亂數的方式顯示１－４９之間七個不重複的大樂透號碼。\n",
    "lot:set = set()\n",
    "while len(lot)<7:\n",
    "\tlot.add(random.randint(1,49))\n",
    "lot_list:list[int] = list(lot)\n",
    "# lot_list.sort(reverse=True)\n",
    "print(lot_list)"
   ]
  }
 ],
 "metadata": {
  "kernelspec": {
   "display_name": "vene1",
   "language": "python",
   "name": "python3"
  },
  "language_info": {
   "codemirror_mode": {
    "name": "ipython",
    "version": 3
   },
   "file_extension": ".py",
   "mimetype": "text/x-python",
   "name": "python",
   "nbconvert_exporter": "python",
   "pygments_lexer": "ipython3",
   "version": "3.10.14"
  }
 },
 "nbformat": 4,
 "nbformat_minor": 2
}
