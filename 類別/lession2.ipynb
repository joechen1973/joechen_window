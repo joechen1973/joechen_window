{
 "cells": [
  {
   "cell_type": "code",
   "execution_count": 34,
   "metadata": {},
   "outputs": [
    {
     "name": "stdout",
     "output_type": "stream",
     "text": [
      "<class '__main__.person'>\n",
      "p1.name=徐國堂\n"
     ]
    }
   ],
   "source": [
    "class person():\n",
    "    def __init__(self,n:str):\n",
    "        self.name=n\n",
    "    def __repr__(self):\n",
    "        return f\"我是person實體,我的名字是{self.name}\"\n",
    "\n",
    "p1:person=person(\"徐國堂\")\n",
    "print(type(p1))\n",
    "print(f\"p1.name={p1.name}\")"
   ]
  },
  {
   "cell_type": "code",
   "execution_count": 35,
   "metadata": {},
   "outputs": [
    {
     "name": "stdout",
     "output_type": "stream",
     "text": [
      "p2.name=Robert Hsu\n",
      "徐國堂\n",
      "Robert Hsu\n"
     ]
    }
   ],
   "source": [
    "#attribute是可以更改內容\n",
    "#property可以設定不可以更改內容\n",
    "\n",
    "p2:person=person(\"Robert Hsu\")\n",
    "p2.name\n",
    "print(f\"p2.name={p2.name}\")\n",
    "\n",
    "class student(person):\n",
    "    def __init__(self,name:str,chinese:int,english:int,math:int):\n",
    "        super().__init__(n=name)\n",
    "        self.__chinese=chinese\n",
    "        self.__english=english\n",
    "        self.__math=math\n",
    "    @property\n",
    "    def chinese(self):\n",
    "        return self.__chinese\n",
    "    @property\n",
    "    def english(self):\n",
    "        return self.__english\n",
    "    @property\n",
    "    def math(self):\n",
    "        return self.__math\n",
    "    @property\n",
    "    def scores(self):\n",
    "        return self.__chinese + self.__english + self.__math\n",
    "\n",
    "#自訂實體的方法(method)\n",
    "\n",
    "    def __repr__(self):\n",
    "        message= f\"我是student實體,我的名字是{self.name}\\n\"\n",
    "        message += f\"國文分數:{self.__chinese}\\n\"\n",
    "        message += f\"英文分數:{self.__english}\\n\"\n",
    "        message += f\"數學分數:{self.__math}\\n\"\n",
    "        return message\n",
    "\n",
    "s1:student=student(\"徐國堂\",chinese=89,english=72,math=94)\n",
    "print(s1.name)\n",
    "\n",
    "\n",
    "s2:student = student(name=\"Robert Hsu\",math=65,english=92,chinese=84)\n",
    "print(s2.name)\n",
    "\n",
    "#attribute是可以改變內容\n",
    "#property可以設定不可以更改內容\n",
    "#s1.chinese=90\n",
    "#s"
   ]
  },
  {
   "cell_type": "code",
   "execution_count": 36,
   "metadata": {},
   "outputs": [
    {
     "name": "stdout",
     "output_type": "stream",
     "text": [
      "我是person實體,我的名字是徐國堂\n",
      "我是student實體,我的名字是徐國堂\n",
      "國文分數:89\n",
      "英文分數:72\n",
      "數學分數:94\n",
      "\n",
      "我是person實體,我的名字是Robert Hsu\n",
      "我是student實體,我的名字是Robert Hsu\n",
      "國文分數:84\n",
      "英文分數:92\n",
      "數學分數:65\n",
      "\n"
     ]
    }
   ],
   "source": [
    "print(p1)\n",
    "print(s1)\n",
    "\n",
    "print(p2)\n",
    "print(s2)"
   ]
  }
 ],
 "metadata": {
  "kernelspec": {
   "display_name": "vene1",
   "language": "python",
   "name": "python3"
  },
  "language_info": {
   "codemirror_mode": {
    "name": "ipython",
    "version": 3
   },
   "file_extension": ".py",
   "mimetype": "text/x-python",
   "name": "python",
   "nbconvert_exporter": "python",
   "pygments_lexer": "ipython3",
   "version": "3.10.14"
  }
 },
 "nbformat": 4,
 "nbformat_minor": 2
}
