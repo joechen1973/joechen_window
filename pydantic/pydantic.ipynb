{
 "cells": [
  {
   "cell_type": "code",
   "execution_count": 2,
   "metadata": {},
   "outputs": [],
   "source": [
    "from pydantic import BaseModel\n",
    "\n",
    "class InventoryItem(BaseModel):\n",
    "    \"\"\"Class for keeping track of an item in inventory.\"\"\"\n",
    "    name:str\n",
    "    unit_price:float\n",
    "    quantity_on_hand:int=0"
   ]
  },
  {
   "cell_type": "code",
   "execution_count": 3,
   "metadata": {},
   "outputs": [
    {
     "name": "stdout",
     "output_type": "stream",
     "text": [
      "name='手機套' unit_price=150.0 quantity_on_hand=0\n",
      "手機套\n",
      "150.0\n",
      "0\n"
     ]
    },
    {
     "data": {
      "text/plain": [
       "('手機套', 150.0, 0)"
      ]
     },
     "execution_count": 3,
     "metadata": {},
     "output_type": "execute_result"
    }
   ],
   "source": [
    "item1=InventoryItem(name=\"手機套\",unit_price=150)\n",
    "print(item1)\n",
    "print(item1.name)\n",
    "print(item1.unit_price)\n",
    "print(item1.quantity_on_hand)\n",
    "\n",
    "item1.name,item1.unit_price,item1.quantity_on_hand\n"
   ]
  }
 ],
 "metadata": {
  "kernelspec": {
   "display_name": "vene1",
   "language": "python",
   "name": "python3"
  },
  "language_info": {
   "codemirror_mode": {
    "name": "ipython",
    "version": 3
   },
   "file_extension": ".py",
   "mimetype": "text/x-python",
   "name": "python",
   "nbconvert_exporter": "python",
   "pygments_lexer": "ipython3",
   "version": "3.10.14"
  }
 },
 "nbformat": 4,
 "nbformat_minor": 2
}
